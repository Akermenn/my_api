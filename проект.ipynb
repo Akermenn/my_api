{
 "cells": [
  {
   "cell_type": "code",
   "execution_count": 5,
   "id": "d07a4e54",
   "metadata": {
    "scrolled": true
   },
   "outputs": [
    {
     "data": {
      "text/html": [
       "<div>\n",
       "<style scoped>\n",
       "    .dataframe tbody tr th:only-of-type {\n",
       "        vertical-align: middle;\n",
       "    }\n",
       "\n",
       "    .dataframe tbody tr th {\n",
       "        vertical-align: top;\n",
       "    }\n",
       "\n",
       "    .dataframe thead th {\n",
       "        text-align: right;\n",
       "    }\n",
       "</style>\n",
       "<table border=\"1\" class=\"dataframe\">\n",
       "  <thead>\n",
       "    <tr style=\"text-align: right;\">\n",
       "      <th></th>\n",
       "      <th>text</th>\n",
       "      <th>target</th>\n",
       "    </tr>\n",
       "  </thead>\n",
       "  <tbody>\n",
       "    <tr>\n",
       "      <th>0</th>\n",
       "      <td>Мне очень понравился фильм «Танцуй до упаду». ...</td>\n",
       "      <td>1</td>\n",
       "    </tr>\n",
       "    <tr>\n",
       "      <th>1</th>\n",
       "      <td>В первую очередь, хочу отметить, что это не пр...</td>\n",
       "      <td>1</td>\n",
       "    </tr>\n",
       "    <tr>\n",
       "      <th>2</th>\n",
       "      <td>Ни одному слову, ни одному кадру верить нельзя...</td>\n",
       "      <td>0</td>\n",
       "    </tr>\n",
       "    <tr>\n",
       "      <th>3</th>\n",
       "      <td>Сценария нет — либо режиссёр полностью забыл с...</td>\n",
       "      <td>0</td>\n",
       "    </tr>\n",
       "    <tr>\n",
       "      <th>4</th>\n",
       "      <td>Фильм оказался не лучше и не хуже того, что я ...</td>\n",
       "      <td>0</td>\n",
       "    </tr>\n",
       "    <tr>\n",
       "      <th>...</th>\n",
       "      <td>...</td>\n",
       "      <td>...</td>\n",
       "    </tr>\n",
       "    <tr>\n",
       "      <th>10937</th>\n",
       "      <td>Прекрасный фильм, звучит так свежо, так чисто,...</td>\n",
       "      <td>1</td>\n",
       "    </tr>\n",
       "    <tr>\n",
       "      <th>10938</th>\n",
       "      <td>Интересный, необычный фильм с моралью. В нем н...</td>\n",
       "      <td>1</td>\n",
       "    </tr>\n",
       "    <tr>\n",
       "      <th>10939</th>\n",
       "      <td>Ребят, вы серьезно ставите эти десятки? Я поня...</td>\n",
       "      <td>0</td>\n",
       "    </tr>\n",
       "    <tr>\n",
       "      <th>10940</th>\n",
       "      <td>Замечательный сериал! Всем советую посмотреть....</td>\n",
       "      <td>1</td>\n",
       "    </tr>\n",
       "    <tr>\n",
       "      <th>10941</th>\n",
       "      <td>Вот удивляюсь рецензиям со знаком — ! Они все ...</td>\n",
       "      <td>1</td>\n",
       "    </tr>\n",
       "  </tbody>\n",
       "</table>\n",
       "<p>10942 rows × 2 columns</p>\n",
       "</div>"
      ],
      "text/plain": [
       "                                                    text  target\n",
       "0      Мне очень понравился фильм «Танцуй до упаду». ...       1\n",
       "1      В первую очередь, хочу отметить, что это не пр...       1\n",
       "2      Ни одному слову, ни одному кадру верить нельзя...       0\n",
       "3      Сценария нет — либо режиссёр полностью забыл с...       0\n",
       "4      Фильм оказался не лучше и не хуже того, что я ...       0\n",
       "...                                                  ...     ...\n",
       "10937  Прекрасный фильм, звучит так свежо, так чисто,...       1\n",
       "10938  Интересный, необычный фильм с моралью. В нем н...       1\n",
       "10939  Ребят, вы серьезно ставите эти десятки? Я поня...       0\n",
       "10940  Замечательный сериал! Всем советую посмотреть....       1\n",
       "10941  Вот удивляюсь рецензиям со знаком — ! Они все ...       1\n",
       "\n",
       "[10942 rows x 2 columns]"
      ]
     },
     "execution_count": 5,
     "metadata": {},
     "output_type": "execute_result"
    }
   ],
   "source": [
    "import pandas as pd\n",
    "data_reviews = pd.read_csv('C:/Users/pankr/ML/text_for_ML.csv')\n",
    "data_reviews = data_reviews.drop(columns=[\"id\"])\n",
    "data_reviews"
   ]
  },
  {
   "cell_type": "code",
   "execution_count": 6,
   "id": "993b6ea1",
   "metadata": {
    "scrolled": true
   },
   "outputs": [
    {
     "data": {
      "text/plain": [
       "<AxesSubplot:xlabel='target', ylabel='count'>"
      ]
     },
     "execution_count": 6,
     "metadata": {},
     "output_type": "execute_result"
    },
    {
     "data": {
      "image/png": "[encoded data removed]",
      "text/plain": [
       "<Figure size 640x480 with 1 Axes>"
      ]
     },
     "metadata": {},
     "output_type": "display_data"
    }
   ],
   "source": [
    "import seaborn as sns\n",
    "sns.countplot(data=data_reviews, x=\"target\")"
   ]
  },
  {
   "cell_type": "code",
   "execution_count": 7,
   "id": "f99b5037",
   "metadata": {},
   "outputs": [
    {
     "name": "stdout",
     "output_type": "stream",
     "text": [
      "10942\n"
     ]
    }
   ],
   "source": [
    "import nltk\n",
    "import re\n",
    "from nltk.corpus import stopwords\n",
    "lemmatize = nltk.WordNetLemmatizer()\n",
    "import pymorphy2\n",
    "from nltk.corpus import stopwords\n",
    "morph = pymorphy2.MorphAnalyzer()\n",
    "ru_stopwords = stopwords.words('russian')\n",
    "new_text = []\n",
    "print(len(data_reviews.text))\n",
    "for i in data_reviews.text:\n",
    "    #удаляем неалфавитные символы\n",
    "    text = re.sub(\"[^a-zA-Zа-яА-Я]\",\" \",i) \n",
    "    \n",
    "    # токенизируем слова\n",
    "    text = nltk.word_tokenize(text,language = \"russian\")\n",
    "\n",
    "    # лемматирзируем слова\n",
    "    text = [morph.normal_forms(word) for word in text if (word not in ru_stopwords)]\n",
    "\n",
    "    # соединяем слова\n",
    "    strin = \"\"\n",
    "    for i in text:\n",
    "        for j in i:\n",
    "            strin = strin + \" \" + j\n",
    "    new_text.append(strin)"
   ]
  },
  {
   "cell_type": "code",
   "execution_count": 8,
   "id": "da69f168",
   "metadata": {},
   "outputs": [
    {
     "data": {
      "text/plain": [
       "array([[0, 0, 0, ..., 0, 0, 0],\n",
       "       [0, 0, 0, ..., 0, 0, 0],\n",
       "       [0, 0, 0, ..., 0, 0, 0],\n",
       "       ...,\n",
       "       [0, 0, 0, ..., 0, 0, 0],\n",
       "       [0, 0, 0, ..., 0, 0, 0],\n",
       "       [0, 0, 0, ..., 0, 0, 0]], dtype=int64)"
      ]
     },
     "execution_count": 8,
     "metadata": {},
     "output_type": "execute_result"
    }
   ],
   "source": [
    "from sklearn.feature_extraction.text import CountVectorizer\n",
    "count = CountVectorizer()\n",
    "# проводим преобразование текста\n",
    "matrix = count.fit_transform(new_text).toarray()\n",
    "\n",
    "matrix"
   ]
  },
  {
   "cell_type": "code",
   "execution_count": 9,
   "id": "d60f31c4",
   "metadata": {},
   "outputs": [],
   "source": [
    "X=matrix\n",
    "y = data_reviews[\"target\"].values\n",
    "\n",
    "from sklearn.model_selection import train_test_split\n",
    "x_train, x_test, y_train, y_test = train_test_split(X, y, test_size = 0.20, random_state = 42)"
   ]
  },
  {
   "cell_type": "code",
   "execution_count": 10,
   "id": "4dfb758f",
   "metadata": {
    "scrolled": true
   },
   "outputs": [
    {
     "name": "stderr",
     "output_type": "stream",
     "text": [
      "C:\\Users\\pankr\\anaconda3\\lib\\site-packages\\sklearn\\linear_model\\_logistic.py:814: ConvergenceWarning: lbfgs failed to converge (status=1):\n",
      "STOP: TOTAL NO. of ITERATIONS REACHED LIMIT.\n",
      "\n",
      "Increase the number of iterations (max_iter) or scale the data as shown in:\n",
      "    https://scikit-learn.org/stable/modules/preprocessing.html\n",
      "Please also refer to the documentation for alternative solver options:\n",
      "    https://scikit-learn.org/stable/modules/linear_model.html#logistic-regression\n",
      "  n_iter_i = _check_optimize_result(\n"
     ]
    },
    {
     "data": {
      "text/plain": [
       "0.8652352672453175"
      ]
     },
     "execution_count": 10,
     "metadata": {},
     "output_type": "execute_result"
    }
   ],
   "source": [
    "from sklearn.linear_model import LogisticRegression\n",
    "logreg = LogisticRegression()\n",
    "result_logreg = logreg.fit(x_train, y_train)\n",
    "logreg.score(x_test,y_test)"
   ]
  },
  {
   "cell_type": "code",
   "execution_count": 11,
   "id": "41de1da5",
   "metadata": {},
   "outputs": [],
   "source": [
    "def emotional_coloring(text):\n",
    "    test_text_1 = re.sub(\"[^a-zA-Zа-яА-Я]\",\" \", text) \n",
    "    test_text_2 = nltk.word_tokenize(test_text_1,language = \"russian\")\n",
    "    test_text_3 = [morph.normal_forms(word) for word in test_text_2 if (word not in ru_stopwords)]\n",
    "    strin_2 = \"\"\n",
    "    for i in test_text_3:\n",
    "        for j in i:\n",
    "            strin_2 = strin_2 + \" \" + j\n",
    "    new_list = []\n",
    "    new_list.append(strin_2)\n",
    "    new = count.transform(new_list).toarray()\n",
    "    result = logreg.predict(new)\n",
    "    if result[0] == 0:\n",
    "        return \"злой текст:(\"\n",
    "    elif result[0] == 1:\n",
    "        return \"добрый текст:)\""
   ]
  },
  {
   "cell_type": "code",
   "execution_count": 13,
   "id": "7b6d6042",
   "metadata": {
    "scrolled": true
   },
   "outputs": [
    {
     "name": "stdout",
     "output_type": "stream",
     "text": [
      "злой текст:(\n"
     ]
    }
   ],
   "source": [
    "print(emotional_coloring(\"\"))"
   ]
  },
  {
   "cell_type": "code",
   "execution_count": 15,
   "id": "d32ba761",
   "metadata": {},
   "outputs": [
    {
     "name": "stdout",
     "output_type": "stream",
     "text": [
      "Requirement already satisfied: flask in c:\\users\\pankr\\anaconda3\\lib\\site-packages (1.1.2)\n",
      "Requirement already satisfied: Werkzeug>=0.15 in c:\\users\\pankr\\anaconda3\\lib\\site-packages (from flask) (2.0.3)\n",
      "Requirement already satisfied: Jinja2>=2.10.1 in c:\\users\\pankr\\anaconda3\\lib\\site-packages (from flask) (2.11.3)\n",
      "Requirement already satisfied: itsdangerous>=0.24 in c:\\users\\pankr\\anaconda3\\lib\\site-packages (from flask) (2.0.1)\n",
      "Requirement already satisfied: click>=5.1 in c:\\users\\pankr\\anaconda3\\lib\\site-packages (from flask) (8.0.4)\n",
      "Requirement already satisfied: colorama in c:\\users\\pankr\\anaconda3\\lib\\site-packages (from click>=5.1->flask) (0.4.5)\n",
      "Requirement already satisfied: MarkupSafe>=0.23 in c:\\users\\pankr\\anaconda3\\lib\\site-packages (from Jinja2>=2.10.1->flask) (2.0.1)\n"
     ]
    }
   ],
   "source": []
  },
  {
   "cell_type": "code",
   "execution_count": 17,
   "id": "416db424",
   "metadata": {},
   "outputs": [
    {
     "name": "stdout",
     "output_type": "stream",
     "text": [
      "Collecting textblob\n",
      "  Using cached textblob-0.18.0.post0-py3-none-any.whl (626 kB)\n",
      "Collecting nltk>=3.8\n",
      "  Using cached nltk-3.9.1-py3-none-any.whl (1.5 MB)\n",
      "Requirement already satisfied: tqdm in c:\\users\\pankr\\anaconda3\\lib\\site-packages (from nltk>=3.8->textblob) (4.64.1)\n",
      "Requirement already satisfied: regex>=2021.8.3 in c:\\users\\pankr\\anaconda3\\lib\\site-packages (from nltk>=3.8->textblob) (2022.7.9)\n",
      "Requirement already satisfied: click in c:\\users\\pankr\\anaconda3\\lib\\site-packages (from nltk>=3.8->textblob) (8.0.4)\n",
      "Requirement already satisfied: joblib in c:\\users\\pankr\\anaconda3\\lib\\site-packages (from nltk>=3.8->textblob) (1.1.0)\n",
      "Requirement already satisfied: colorama in c:\\users\\pankr\\anaconda3\\lib\\site-packages (from click->nltk>=3.8->textblob) (0.4.5)\n",
      "Installing collected packages: nltk, textblob\n",
      "  Attempting uninstall: nltk\n",
      "    Found existing installation: nltk 3.7\n",
      "    Uninstalling nltk-3.7:\n",
      "      Successfully uninstalled nltk-3.7\n",
      "Successfully installed nltk-3.9.1 textblob-0.18.0.post0\n"
     ]
    }
   ],
   "source": [
    "!pip install textblob"
   ]
  },
  {
   "cell_type": "code",
   "execution_count": null,
   "id": "cc8c820f",
   "metadata": {},
   "outputs": [
    {
     "name": "stdout",
     "output_type": "stream",
     "text": [
      " * Serving Flask app \"__main__\" (lazy loading)\n",
      " * Environment: production\n",
      "\u001b[31m   WARNING: This is a development server. Do not use it in a production deployment.\u001b[0m\n",
      "\u001b[2m   Use a production WSGI server instead.\u001b[0m\n",
      " * Debug mode: on\n"
     ]
    },
    {
     "name": "stderr",
     "output_type": "stream",
     "text": [
      " * Running on http://127.0.0.1:5000/ (Press CTRL+C to quit)\n",
      "127.0.0.1 - - [24/Dec/2024 22:38:39] \"GET /analyze HTTP/1.1\" 200 -\n",
      "127.0.0.1 - - [24/Dec/2024 22:38:50] \"POST /analyze HTTP/1.1\" 200 -\n",
      "127.0.0.1 - - [24/Dec/2024 22:39:49] \"POST /analyze HTTP/1.1\" 200 -\n",
      "127.0.0.1 - - [24/Dec/2024 22:40:06] \"POST /analyze HTTP/1.1\" 200 -\n",
      "127.0.0.1 - - [24/Dec/2024 22:40:20] \"POST /analyze HTTP/1.1\" 200 -\n",
      "127.0.0.1 - - [24/Dec/2024 22:40:50] \"POST /analyze HTTP/1.1\" 200 -\n",
      "127.0.0.1 - - [24/Dec/2024 22:40:59] \"POST /analyze HTTP/1.1\" 200 -\n",
      "127.0.0.1 - - [24/Dec/2024 22:41:02] \"POST /analyze HTTP/1.1\" 200 -\n",
      "127.0.0.1 - - [24/Dec/2024 22:41:11] \"POST /analyze HTTP/1.1\" 200 -\n",
      "127.0.0.1 - - [24/Dec/2024 22:41:26] \"POST /analyze HTTP/1.1\" 200 -\n",
      "127.0.0.1 - - [24/Dec/2024 23:01:48] \"POST /analyze HTTP/1.1\" 200 -\n",
      "127.0.0.1 - - [24/Dec/2024 23:02:20] \"POST /analyze HTTP/1.1\" 200 -\n",
      "127.0.0.1 - - [24/Dec/2024 23:02:26] \"POST /analyze HTTP/1.1\" 200 -\n",
      "127.0.0.1 - - [24/Dec/2024 23:19:41] \"POST /analyze HTTP/1.1\" 200 -\n",
      "127.0.0.1 - - [24/Dec/2024 23:19:43] \"POST /analyze HTTP/1.1\" 200 -\n",
      "127.0.0.1 - - [24/Dec/2024 23:19:45] \"POST /analyze HTTP/1.1\" 200 -\n",
      "127.0.0.1 - - [24/Dec/2024 23:19:47] \"POST /analyze HTTP/1.1\" 200 -\n",
      "127.0.0.1 - - [24/Dec/2024 23:19:49] \"POST /analyze HTTP/1.1\" 200 -\n",
      "127.0.0.1 - - [24/Dec/2024 23:19:51] \"POST /analyze HTTP/1.1\" 200 -\n",
      "127.0.0.1 - - [24/Dec/2024 23:19:53] \"POST /analyze HTTP/1.1\" 200 -\n",
      "127.0.0.1 - - [24/Dec/2024 23:19:55] \"POST /analyze HTTP/1.1\" 200 -\n",
      "127.0.0.1 - - [24/Dec/2024 23:19:57] \"POST /analyze HTTP/1.1\" 200 -\n",
      "127.0.0.1 - - [24/Dec/2024 23:19:59] \"POST /analyze HTTP/1.1\" 200 -\n",
      "127.0.0.1 - - [24/Dec/2024 23:26:46] \"POST /analyze HTTP/1.1\" 200 -\n",
      "127.0.0.1 - - [24/Dec/2024 23:27:46] \"POST /analyze HTTP/1.1\" 200 -\n",
      "127.0.0.1 - - [24/Dec/2024 23:27:48] \"POST /analyze HTTP/1.1\" 200 -\n",
      "127.0.0.1 - - [24/Dec/2024 23:27:50] \"POST /analyze HTTP/1.1\" 200 -\n",
      "127.0.0.1 - - [24/Dec/2024 23:27:52] \"POST /analyze HTTP/1.1\" 200 -\n",
      "127.0.0.1 - - [24/Dec/2024 23:27:54] \"POST /analyze HTTP/1.1\" 200 -\n",
      "127.0.0.1 - - [24/Dec/2024 23:27:56] \"POST /analyze HTTP/1.1\" 200 -\n",
      "127.0.0.1 - - [24/Dec/2024 23:27:58] \"POST /analyze HTTP/1.1\" 200 -\n",
      "127.0.0.1 - - [24/Dec/2024 23:28:00] \"POST /analyze HTTP/1.1\" 200 -\n",
      "127.0.0.1 - - [24/Dec/2024 23:28:02] \"POST /analyze HTTP/1.1\" 200 -\n",
      "127.0.0.1 - - [24/Dec/2024 23:28:04] \"POST /analyze HTTP/1.1\" 200 -\n",
      "127.0.0.1 - - [24/Dec/2024 23:29:40] \"POST /analyze HTTP/1.1\" 200 -\n",
      "127.0.0.1 - - [24/Dec/2024 23:29:42] \"POST /analyze HTTP/1.1\" 200 -\n",
      "127.0.0.1 - - [24/Dec/2024 23:29:44] \"POST /analyze HTTP/1.1\" 200 -\n"
     ]
    }
   ],
   "source": [
    "from flask import Flask, request, jsonify, render_template_string\n",
    "from textblob import TextBlob  # Example for sentiment analysis (replace with your ML model)\n",
    "app.run(debug=True, use_reloader=False)\n",
    "app = Flask(__name__)\n",
    "\n",
    "# Mock ML model function for sentiment analysis\n",
    "def analyze_sentiment(text):\n",
    "    analysis = TextBlob(text)\n",
    "    polarity = analysis.sentiment.polarity\n",
    "    if polarity > 0:\n",
    "        return \"Добрый\"\n",
    "    elif polarity < 0:\n",
    "        return \"Злой\"\n",
    "    else:\n",
    "        return \"Нейтральный\"\n",
    "\n",
    "# HTML template for user input\n",
    "html_template = \"\"\"\n",
    "<!DOCTYPE html>\n",
    "<html lang=\"ru\">\n",
    "<head>\n",
    "    <meta charset=\"UTF-8\">\n",
    "    <meta name=\"viewport\" content=\"width=device-width, initial-scale=1.0\">\n",
    "    <title>Sentiment Analysis</title>\n",
    "    <style>\n",
    "        body {\n",
    "            font-family: Arial, sans-serif;\n",
    "            background: url('https://xiengineering.com/wp-content/uploads/2023/10/AdobeStock_519767884-1-scaled.jpeg') no-repeat center center fixed;\n",
    "            background-size: cover; /* Ensures the background covers the whole page */\n",
    "            color: #333;\n",
    "            margin: 0;\n",
    "            padding: 0;\n",
    "            display: flex;\n",
    "            justify-content: center;\n",
    "            align-items: center;\n",
    "            height: 100vh;\n",
    "        }\n",
    "        .container {\n",
    "            background-color: rgba(255, 255, 255, 0.8); /* White background with some transparency */\n",
    "            border-radius: 8px;\n",
    "            box-shadow: 0 0 10px rgba(0, 0, 0, 0.1);\n",
    "            padding: 80px; /* Increased padding for bigger content */\n",
    "            width: 80%;\n",
    "            max-width: 750px;\n",
    "        }\n",
    "        h1 {\n",
    "            color: #007BFF; /* Blue color for the title */\n",
    "            font-size: 36px; /* Bigger font size for the title */\n",
    "            margin-bottom: 20px;\n",
    "            text-align: center;\n",
    "        }\n",
    "        label {\n",
    "            font-size: 20px; /* Increased font size for label */\n",
    "            margin-bottom: 10px;\n",
    "            display: block;\n",
    "        }\n",
    "        textarea {\n",
    "            width: 100%;\n",
    "            height: 250px; /* Increased height of the textarea */\n",
    "            padding: 12px;\n",
    "            font-size: 18px;\n",
    "            border-radius: 8px;\n",
    "            border: 1px solid #ddd;\n",
    "            resize: vertical;\n",
    "            margin-bottom: 20px;\n",
    "        }\n",
    "        input[type=\"submit\"] {\n",
    "            padding: 14px 22px; /* Increased padding for the button */\n",
    "            font-size: 20px; /* Bigger font size for the button */\n",
    "            background-color: #007BFF; /* Blue button */\n",
    "            color: white;\n",
    "            border: none;\n",
    "            border-radius: 5px;\n",
    "            cursor: pointer;\n",
    "            width: 100%;\n",
    "        }\n",
    "        input[type=\"submit\"]:hover {\n",
    "            background-color: #0056b3; /* Darker blue when hovering */\n",
    "        }\n",
    "        .result {\n",
    "            background-color: rgba(0, 123, 255, 0.6); /* Semi-transparent blue background */\n",
    "            border-radius: 8px;\n",
    "            padding: 40px; /* Increased padding for result section */\n",
    "            margin-top: 30px;\n",
    "            box-shadow: 0 4px 6px rgba(0, 0, 0, 0.1);\n",
    "        }\n",
    "        .error {\n",
    "            color: red;\n",
    "            font-weight: bold;\n",
    "            text-align: center;\n",
    "            margin-top: 20px;\n",
    "        }\n",
    "    </style>\n",
    "</head>\n",
    "<body>\n",
    "    <div class=\"container\">\n",
    "        <h1>Sentiment Analysis</h1>\n",
    "        <form action=\"/analyze\" method=\"post\">\n",
    "            <label for=\"text\">Введите текст:</label>\n",
    "            <textarea id=\"text\" name=\"text\" placeholder=\"Введите текст для анализа...\" required></textarea>\n",
    "            <input type=\"submit\" value=\"Анализировать\">\n",
    "        </form>\n",
    "\n",
    "        {% if sentiment %}\n",
    "            <div class=\"result\">\n",
    "                <h2>Результат:</h2>\n",
    "                <p><strong>Текст:</strong> {{ text }}</p>\n",
    "                <p><strong>Оценка:</strong> {{ sentiment }}</p>\n",
    "            </div>\n",
    "        {% endif %}\n",
    "\n",
    "        {% if sentiment == \"Error: No text provided\" %}\n",
    "            <p class=\"error\">{{ sentiment }}</p>\n",
    "        {% endif %}\n",
    "    </div>\n",
    "</body>\n",
    "</html>\n",
    "\"\"\"\n",
    "\n",
    "# Default route redirects to analyze page\n",
    "@app.route('/')\n",
    "def home():\n",
    "    return \"<h1>Welcome!</h1><p>Go to <a href='/analyze'>Analyze Sentiment</a></p>\"\n",
    "\n",
    "# API endpoint to analyze sentiment\n",
    "@app.route('/analyze', methods=['GET', 'POST'])\n",
    "def analyze():\n",
    "    if request.method == 'POST':\n",
    "        user_text = request.form.get('text', '')\n",
    "        if not user_text:\n",
    "            return render_template_string(html_template, sentiment=\"Error: No text provided\", text=\"\")\n",
    "        \n",
    "        user_text_pr = str(user_text) \n",
    "        sentiment = emotional_coloring(user_text_pr)\n",
    "        return render_template_string(html_template, sentiment=sentiment, text=user_text)\n",
    "    return render_template_string(html_template)\n",
    "\n",
    "# Run the app\n",
    "if __name__ == '__main__':\n",
    "    app.run(debug=True)"
   ]
  },
  {
   "cell_type": "code",
   "execution_count": null,
   "id": "06939905",
   "metadata": {},
   "outputs": [],
   "source": []
  },
  {
   "cell_type": "code",
   "execution_count": null,
   "id": "8621bb00",
   "metadata": {},
   "outputs": [],
   "source": []
  },
  {
   "cell_type": "code",
   "execution_count": null,
   "id": "b9a274b2",
   "metadata": {},
   "outputs": [],
   "source": []
  }
 ],
 "metadata": {
  "kernelspec": {
   "display_name": "Python 3 (ipykernel)",
   "language": "python",
   "name": "python3"
  },
  "language_info": {
   "codemirror_mode": {
    "name": "ipython",
    "version": 3
   },
   "file_extension": ".py",
   "mimetype": "text/x-python",
   "name": "python",
   "nbconvert_exporter": "python",
   "pygments_lexer": "ipython3",
   "version": "3.9.13"
  }
 },
 "nbformat": 4,
 "nbformat_minor": 5
}
